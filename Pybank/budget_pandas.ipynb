{
    "cells": [
        {
            "cell_type": "code",
            "execution_count": 64,
            "source": [
                "#Import necessary modules and establish file path\r\n",
                "\r\n",
                "import os\r\n",
                "import csv\r\n",
                "import math\r\n",
                "import numpy as np\r\n",
                "import itertools as it\r\n",
                "\r\n",
                "\r\n",
                "\r\n",
                "\r\n",
                "pybank_csv = \"C:\\\\Users\\\\hmwhi\\\\OneDrive\\\\Desktop\\\\Bootcamp Files\\\\Homework Files\\\\python-challenge\\\\Pybank\\\\Resources\\\\budget_data.csv\"\r\n",
                "\r\n",
                "date = []\r\n",
                "profit_loss = []\r\n"
            ],
            "outputs": [],
            "metadata": {}
        },
        {
            "cell_type": "code",
            "execution_count": 65,
            "source": [
                "with open(pybank_csv, newline='', encoding='utf-8') as csvfile:\r\n",
                "    \r\n",
                "    csvreader = csv.reader(csvfile,delimiter=',')\r\n",
                "    header = next(csvreader)\r\n",
                "\r\n",
                "    for row in csvreader:\r\n",
                "        #rows = [header] + [[row[0], int(row[1]])]\r\n",
                "        date.append(row[0])\r\n",
                "        profit_loss.append(row[1])\r\n",
                "\r\n"
            ],
            "outputs": [],
            "metadata": {}
        },
        {
            "cell_type": "code",
            "execution_count": 66,
            "source": [
                "no_of_months = len(date)\r\n",
                "#run more than once doubles the list and sum\r\n",
                "\r\n",
                "profit_loss = [int(i)for i in profit_loss]\r\n",
                "\r\n",
                "# print(profit_loss)\r\n",
                "total_sum = math.fsum(profit_loss)\r\n",
                "finsum = (f'${total_sum}0')\r\n",
                "print(finsum)\r\n",
                "\r\n",
                "print(no_of_months)\r\n",
                "#prevent profit_loss from duplicating list values"
            ],
            "outputs": [
                {
                    "output_type": "stream",
                    "name": "stdout",
                    "text": [
                        "$38382578.00\n",
                        "86\n"
                    ]
                }
            ],
            "metadata": {}
        },
        {
            "cell_type": "code",
            "execution_count": 67,
            "source": [
                "#find min and max\r\n",
                "max_profit = max(profit_loss)\r\n",
                "min_loss = min(profit_loss)\r\n",
                "\r\n",
                "#no need to index \"row[0]\", because it is already indexed as \"date\"\r\n",
                "max_date = []\r\n",
                "for i in range(0,len(profit_loss)):\r\n",
                "    if profit_loss[i] == max_profit:\r\n",
                "        max_date = date[i]\r\n",
                "\r\n",
                "\r\n",
                "min_date = []\r\n",
                "for i in range(0,len(profit_loss)):\r\n",
                "    if profit_loss[i] == min_loss:\r\n",
                "        min_date.append(i)\r\n",
                "        min_date = date[i]\r\n",
                "\r\n",
                "\r\n",
                "max_profit = (f'${max_profit}.00')\r\n",
                "min_loss = (f'${min_loss}.00')\r\n",
                "\r\n",
                "max_ = (max_date,max_profit)\r\n",
                "min_ = (min_date,min_loss)\r\n",
                "\r\n",
                "print(max_)\r\n",
                "print(min_)\r\n",
                "\r\n",
                "\r\n"
            ],
            "outputs": [
                {
                    "output_type": "stream",
                    "name": "stdout",
                    "text": [
                        "('Feb-12', '$1170593.00')\n",
                        "('Sep-13', '$-1196225.00')\n"
                    ]
                }
            ],
            "metadata": {}
        },
        {
            "cell_type": "markdown",
            "source": [
                "https://www.geeksforgeeks.org/python-ways-to-find-indices-of-value-in-list/"
            ],
            "metadata": {}
        },
        {
            "cell_type": "code",
            "execution_count": 68,
            "source": [
                "#make list for average difference in values\r\n",
                "# referenced <https://stackoverflow.com/questions/2400840/python-finding-differences-between-elements-of-a-list>\r\n",
                "# ...for this code\r\n",
                "#diff = profit_loss(map(operator.sub, profit_loss[1:], profit_loss[:-1])) X\r\n",
                "\r\n",
                "diff_list = [j-i for i, j in zip(profit_loss[:-1], profit_loss[1:])]\r\n",
                "\r\n",
                "#print(diff_list)\r\n"
            ],
            "outputs": [],
            "metadata": {}
        },
        {
            "cell_type": "code",
            "execution_count": 69,
            "source": [
                "#find average of diff_list\r\n",
                "n = len(diff_list)\r\n",
                "tot = sum(diff_list)\r\n",
                "avg = tot/n\r\n",
                "avg_change = round(avg,2)\r\n",
                "print(n,tot,avg_change)"
            ],
            "outputs": [
                {
                    "output_type": "stream",
                    "name": "stdout",
                    "text": [
                        "85 -196785 -2315.12\n"
                    ]
                }
            ],
            "metadata": {}
        },
        {
            "cell_type": "code",
            "execution_count": 70,
            "source": [
                "cleaned_csv = zip(date,profit_loss)\r\n",
                "output_file = \"C:\\\\Users\\\\hmwhi\\\\OneDrive\\\\Desktop\\\\Bootcamp Files\\\\Homework Files\\\\python-challenge\\\\Pybank\\\\Analysis\\\\clean_csv.csv\"\r\n",
                "with open(output_file, 'w',newline='') as datafile:\r\n",
                "   \r\n",
                "    writer = csv.writer(datafile)\r\n",
                "    writer.writerows(cleaned_csv)\r\n",
                "\r\n",
                "#clean_csv = \"C:\\\\Users\\\\hmwhi\\\\OneDrive\\\\Desktop\\\\Bootcamp Files\\\\Homework Files\\\\python-challenge\\\\Pybank\\\\Analysis\\\\clean_csv.csv\"\r\n"
            ],
            "outputs": [],
            "metadata": {}
        },
        {
            "cell_type": "code",
            "execution_count": 71,
            "source": [
                "#Final Print\r\n",
                "line1 = (\"Finacial Analysis\")\r\n",
                "line2 = (\"--------------------------------\")\r\n",
                "line3 = (f\"Total Months: {no_of_months}\")\r\n",
                "line4 = (f\"Total: {finsum}\")\r\n",
                "line5 = (f\"Average Change: ${avg_change}\")\r\n",
                "line6 = (f\"Greatest Increase in Profits: {max_}\")\r\n",
                "line7 = (f\"Greatest Decrease in Profits: {min_}\")\r\n",
                "\r\n",
                "financial_analysis = open(r\"C:\\Users\\hmwhi\\OneDrive\\Desktop\\Bootcamp Files\\Homework Files\\python-challenge\\Pybank\\Analysis\\financial_analysis.txt\",\"w\")\r\n",
                "financial_analysis.write((\"%s \\n %s \\n %s \\n %s \\n %s \\n %s \\n %s \\n\" % (line1,line2,line3,line4,line5,line6,line7)))"
            ],
            "outputs": [
                {
                    "output_type": "execute_result",
                    "data": {
                        "text/plain": [
                            "240"
                        ]
                    },
                    "metadata": {},
                    "execution_count": 71
                }
            ],
            "metadata": {}
        },
        {
            "cell_type": "code",
            "execution_count": null,
            "source": [],
            "outputs": [],
            "metadata": {}
        }
    ],
    "metadata": {
        "orig_nbformat": 4,
        "language_info": {
            "name": "python",
            "version": "3.8.8",
            "mimetype": "text/x-python",
            "codemirror_mode": {
                "name": "ipython",
                "version": 3
            },
            "pygments_lexer": "ipython3",
            "nbconvert_exporter": "python",
            "file_extension": ".py"
        },
        "kernelspec": {
            "name": "python3",
            "display_name": "Python 3.8.8 64-bit ('base': conda)"
        },
        "interpreter": {
            "hash": "696a868d263820d96c3e015462b3285736058cba07fad26566882fe661452fde"
        }
    },
    "nbformat": 4,
    "nbformat_minor": 2
}