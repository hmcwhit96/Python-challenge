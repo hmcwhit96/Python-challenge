{
 "cells": [
  {
   "cell_type": "markdown",
   "source": [
    "PyPoll jupyter workbook"
   ],
   "metadata": {}
  },
  {
   "cell_type": "code",
   "execution_count": 72,
   "source": [
    "# import modules\r\n",
    "\r\n",
    "import os\r\n",
    "import csv\r\n"
   ],
   "outputs": [],
   "metadata": {}
  },
  {
   "cell_type": "code",
   "execution_count": 73,
   "source": [
    "# establish file path\r\n",
    "file = r\"C:\\Users\\hmwhi\\OneDrive\\Documents\\GitHub\\Python-challenge\\PyPoll\\Resources\\election_data.csv\"\r\n",
    "\r\n",
    "# define columns\r\n",
    "voter_id = []\r\n",
    "candidate = []\r\n",
    "\r\n",
    "# open & read csv, dictate column indexes\r\n",
    "with open(file, newline=\"\",encoding=\"utf-8\") as csvfile:\r\n",
    "\r\n",
    "    csvreader = csv.reader(csvfile,delimiter=\",\")\r\n",
    "    header = next(csvreader)\r\n",
    "\r\n",
    "    for row in csvreader:\r\n",
    "        voter_id.append(row[0])\r\n",
    "        candidate.append(row[2])\r\n",
    "        "
   ],
   "outputs": [],
   "metadata": {}
  },
  {
   "cell_type": "code",
   "execution_count": 74,
   "source": [
    "# count number of voters\r\n",
    "\r\n",
    "total_votes = len(voter_id)\r\n",
    "#print(total_votes)\r\n"
   ],
   "outputs": [
    {
     "output_type": "stream",
     "name": "stdout",
     "text": [
      "3521001\n"
     ]
    }
   ],
   "metadata": {}
  },
  {
   "cell_type": "code",
   "execution_count": 75,
   "source": [
    "# establish variables for each candidate\r\n",
    "\r\n",
    "khan = []\r\n",
    "correy = []\r\n",
    "li = []\r\n",
    "otooley = []\r\n",
    "\r\n",
    "for i in range(0,len(candidate)):\r\n",
    "    if candidate[i] == \"Khan\":\r\n",
    "        khan.append(i)\r\n",
    "    elif candidate[i] == \"Correy\":\r\n",
    "        correy.append(i)\r\n",
    "    elif candidate[i] == \"Li\":\r\n",
    "        li.append(i)\r\n",
    "    elif candidate[i] == \"O'Tooley\":\r\n",
    "        otooley.append(i)\r\n"
   ],
   "outputs": [],
   "metadata": {}
  },
  {
   "cell_type": "code",
   "execution_count": 76,
   "source": [
    "# calculate each candidates' vote percentage\r\n",
    "khan_percent = (len(khan)/total_votes) * 100\r\n",
    "print(khan_percent)\r\n",
    "correy_percent = (len(correy)/total_votes) * 100\r\n",
    "print(correy_percent)\r\n",
    "li_percent = (len(li)/total_votes) * 100\r\n",
    "print(li_percent)\r\n",
    "otooley_percent = (len(otooley)/total_votes) * 100\r\n",
    "#print(otooley_percent)"
   ],
   "outputs": [
    {
     "output_type": "stream",
     "name": "stdout",
     "text": [
      "63.00001050837531\n",
      "19.999994319797125\n",
      "13.999996023857989\n",
      "2.999999147969569\n"
     ]
    }
   ],
   "metadata": {}
  },
  {
   "cell_type": "code",
   "execution_count": 77,
   "source": [
    "# clean up values\r\n",
    "khan_votes = (len(khan))\r\n",
    "correy_votes = (len(correy))\r\n",
    "li_votes = (len(li))\r\n",
    "otooley_votes = (len(otooley))\r\n",
    "\r\n",
    "khan_percent = \"{:.2f}\".format(khan_percent)\r\n",
    "correy_percent = \"{:.2f}\".format(correy_percent)\r\n",
    "li_percent = \"{:.2f}\".format(li_percent)\r\n",
    "otooley_percent = \"{:.2f}\".format(otooley_percent)\r\n",
    "\r\n",
    "#print(khan_percent,correy_percent,li_percent,otooley_percent)"
   ],
   "outputs": [
    {
     "output_type": "stream",
     "name": "stdout",
     "text": [
      "63.00 20.00 14.00 3.00\n"
     ]
    }
   ],
   "metadata": {}
  },
  {
   "cell_type": "code",
   "execution_count": 78,
   "source": [
    "# calculate the winner\r\n",
    "candidates_dict = dict()\r\n",
    "\r\n",
    "candidates_dict = {\r\n",
    "    \"Khan\":{khan_percent},\r\n",
    "    \"Correy\":{correy_percent},\r\n",
    "    \"Li\":{li_percent},\r\n",
    "    \"O'Tooley\":{otooley_percent}\r\n",
    "}\r\n",
    "\r\n",
    "winner = max(candidates_dict, key=candidates_dict.get)\r\n",
    "#print(winner)\r\n"
   ],
   "outputs": [
    {
     "output_type": "stream",
     "name": "stdout",
     "text": [
      "Khan\n"
     ]
    }
   ],
   "metadata": {}
  },
  {
   "cell_type": "code",
   "execution_count": 71,
   "source": [
    "# final print\r\n",
    "l1 = (\"Election Results\")\r\n",
    "l2 = (\"--------------------------\")\r\n",
    "l3 = (f\"Total Votes: {total_votes}\")\r\n",
    "l4 = (\"--------------------------\")\r\n",
    "l5 = (f\"Khan: {khan_percent} '({khan_votes})'\")\r\n",
    "l6 = (f\"Correy: {correy_percent} '({correy_percent})'\")\r\n",
    "l7 = (f\"Li: {li_percent} '({li_percent})'\")\r\n",
    "l8 = (f\"O'Tooley: {otooley_percent} '({otooley_percent})'\")\r\n",
    "l9 = (\"--------------------------\")\r\n",
    "l10 = (f\"Winner: {winner}\")\r\n",
    "l11 = (\"--------------------------\")\r\n",
    "\r\n",
    "election_results = open(r\"C:\\Users\\hmwhi\\OneDrive\\Documents\\GitHub\\Python-challenge\\PyPoll\\Analysis\\election_results.txt\",\"w\")\r\n",
    "election_results.write((\"%s \\n %s \\n %s \\n %s \\n %s \\n %s \\n %s \\n %s \\n %s \\n %s \\n %s \\n\" % (l1,l2,l3,l4,l5,l6,l7,l8,l9,l10,l11)))\r\n",
    "\r\n",
    "print_analysis = [l1,l2,l3,l4,l5,l6,l7,l8,l9,l10,l11]\r\n",
    "for line in print_analysis:\r\n",
    "    print(line)\r\n"
   ],
   "outputs": [
    {
     "output_type": "stream",
     "name": "stdout",
     "text": [
      "Election Results\n",
      "--------------------------\n",
      "Total Votes: 3521001\n",
      "--------------------------\n",
      "Khan: 63.00 '(2218231)'\n",
      "Correy: 20.00 '(20.00)'\n",
      "Li: 14.00 '(14.00)'\n",
      "O'Tooley: 3.00 '(3.00)'\n",
      "--------------------------\n",
      "Winner: Khan\n",
      "--------------------------\n"
     ]
    }
   ],
   "metadata": {}
  }
 ],
 "metadata": {
  "orig_nbformat": 4,
  "language_info": {
   "name": "python",
   "version": "3.8.8",
   "mimetype": "text/x-python",
   "codemirror_mode": {
    "name": "ipython",
    "version": 3
   },
   "pygments_lexer": "ipython3",
   "nbconvert_exporter": "python",
   "file_extension": ".py"
  },
  "kernelspec": {
   "name": "python3",
   "display_name": "Python 3.8.8 64-bit ('base': conda)"
  },
  "interpreter": {
   "hash": "696a868d263820d96c3e015462b3285736058cba07fad26566882fe661452fde"
  }
 },
 "nbformat": 4,
 "nbformat_minor": 2
}